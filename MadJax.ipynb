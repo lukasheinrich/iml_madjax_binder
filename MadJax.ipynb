{
 "cells": [
  {
   "cell_type": "code",
   "execution_count": 1,
   "id": "84fd8196",
   "metadata": {},
   "outputs": [],
   "source": [
    "import vector\n",
    "import jax\n",
    "import madjax as mj\n",
    "import numpy as np\n",
    "import matplotlib.pyplot as plt"
   ]
  },
  {
   "cell_type": "markdown",
   "id": "f4833c23",
   "metadata": {},
   "source": [
    "# MadJax Intro\n",
    "\n",
    "`madjax` is a package that gives you access to Matrix Element calculations from `MadGraph` but in a fully differentiable way.\n",
    "\n",
    "Traditionally `MadGraph` provides the user with two things:\n",
    "\n",
    "1. Matrix Element Calculations to compute the relative prob of an event scattering into a given phase space point $x$\n",
    "\n",
    "$$\\frac{d\\sigma(x)}{d\\Omega} \\sim |\\mathcal{M}|^2(x)$$\n",
    "\n",
    "\n",
    "This involves e.g. parsing a user-defined process string like \n",
    "\n",
    "```\n",
    "generate e+ e- > mu+ mu-\n",
    "```\n",
    "\n",
    "and listing all possible Feynman Diagrams for the desired process. Once `MadGraph` has all the desired diagrams it *generates code* for each of these sub-processes in order to compute $|\\mathcal{M}|^2$\n",
    "\n",
    "The computed Matrix Element of course depends on various constants of nature such as couplings, particle masses and so on: $\\alpha_s$, $M_Z$\n",
    "\n",
    "So the total Matrix Element depends on not only the phase-space point $x$ but also on the parameters $\\theta$\n",
    "\n",
    "$$\\frac{d\\sigma(x)}{d\\Omega} \\sim |\\mathcal{M}|^2(x,\\theta)$$\n",
    "\n",
    "\n",
    "\n",
    "\n",
    "2. Another feature that `MadGraph` provides is event generation.\n",
    "\n",
    "That is `MadGraph` can sample events *according to their relative probabilities* as computed by 1). This results e.g. in events in LHE files that you can then use to produce further simulated Monte-Carlo samples for HEP analysis\n",
    "\n",
    "\n",
    "## `madjax`\n",
    "\n",
    "The main feature of `madjax` is to expand the code generation capabilities of `MadGraph` in order to provide a **differentiable** version of  $|\\mathcal{M}|^2(x,\\theta)$ such that you can compute derivatives with respect to the phase-space\n",
    "\n",
    "$$\\nabla_x |\\mathcal{M}|^2(x,\\theta)$$\n",
    "\n",
    "... but also with respect to the theory parameters:\n",
    "\n",
    "$$\\nabla_\\theta |\\mathcal{M}|^2(x,\\theta)$$ \n",
    "\n",
    "\n",
    "### Generating `madjax`-enabled Matrix Element Code\n",
    "\n",
    "In this tutorial you already have a ready-generated code in the `iml_example` directory but it's useful to know how to generate it yourself\n",
    "\n",
    "1. Installing `madjax`\n",
    "\n",
    "\n",
    "If you want to install `madjax` locally (outside of this binder) you can simply run\n",
    "\n",
    "`pip install madjax`\n",
    "\n",
    "or if you want to have the bleeding edge (use for this tutorial)\n",
    "\n",
    "`pip install git+https://github.com/madjax-hep/madjax@master#egg=madjax`\n",
    "\n",
    "\n",
    "The `madjax` package comes with a commadn `madjax-config` that give you the path to the `madjax` plugin code. In order to make this visible to `MadGraph` this code must be put into the `PLUGINS` directory of `MadGraph`\n",
    "\n",
    "2. Generating `madjax` code\n",
    "\n",
    "\n",
    "In order to generate `madjax` code it's enough to change your usual madgraph. The code generation is triggered by the `output madjax <directory name>` line\n",
    "\n",
    "```\n",
    "$> cat madjax.mg5\n",
    "generate e+ e- > mu+ mu- \n",
    "output madjax iml_example\n",
    "```\n",
    "\n",
    "You can then run \n",
    "\n",
    "```\n",
    "mg5_aMC --mode=madjax_me_gen madjax.mg5\n",
    "```\n",
    "\n",
    "in order to genrate the code. This will produce output like \n",
    "\n",
    "\n",
    "```\n",
    "...\n",
    "INFO: Trying process: e+ e- > mu+ mu- WEIGHTED<=4 @1  \n",
    "INFO: Process has 2 diagrams \n",
    "1 processes with 2 diagrams generated in 0.034 s\n",
    "Total: 1 processes with 2 diagrams\n",
    "output madjax iml_example\n",
    "Output will be done with PLUGIN: madjax_me_gen\n",
    "INFO: Organizing processes into subprocess groups \n",
    "INFO: Generating Helas calls for process: e+ e- > mu+ mu- WEIGHTED<=4 @1 \n",
    "INFO: Processing color information for process: e+ e- > mu+ mu- @1 \n",
    "MG5aMC_PythonMEs.MEExporter: Now generating Python output for process: e+ e- > mu+ mu- WEIGHTED<=4 @1\n",
    "Generated helas calls for 1 subprocesses (2 diagrams) in 0.023 s\n",
    "MG5aMC_PythonMEs.MEExporter: Now outputting the model...\n",
    "ALOHA: aloha starts to compute helicity amplitudes\n",
    "ALOHA: aloha creates 3 routines in  1.481 s\n",
    "MG5aMC_PythonMEs.MEExporter: Created parameters python file /Users/lukasheinrich/Code/madjaxdev/examples/iml_example/model/parameters.py.\n",
    "MG5aMC_PythonMEs.MEExporter: Finalizing...\n",
    "```\n",
    "\n",
    "## Generating `madjax` code with `docker`\n",
    "\n",
    "Once the code generated `madjax` is totally independent from `MadGraph` and works in environments (such as this one), where no `MadGraph` is installed. Given this, it's useful to know how to generate `madjax` code in a self-contained why without a local install of `MadGraph`. \n",
    "\n",
    "We can do this with the software virtualization tool `docker` and use Matthew Feickers famous `MadGraph` images\n",
    "\n",
    "Let's pull the image\n",
    "\n",
    "```\n",
    "docker pull scailfin/madgraph5-amc-nlo:mg5_amc3.3.2\n",
    "```\n",
    "\n",
    "Now to generate madgraph code we only need to make the `madjax` plugin available inside of the `docker` image and run `MadGraph`\n",
    "\n",
    "```\n",
    "docker run \\\n",
    "-v $PWD:$PWD -w $PWD \\\n",
    "-v `madjax-config`:/usr/local/venv/MG5_aMC/PLUGIN/madjax_me_gen \\\n",
    "scailfin/madgraph5-amc-nlo:mg5_amc3.3.2 \\\n",
    "\"mg5_aMC --mode=madjax_me_gen madjax.mg5\"\n",
    "```\n",
    "\n",
    "This command should produce the `iml_example` directory that you see in this tutorial\n",
    "\n",
    "\n",
    "From here on out, we will work only with this example process \n",
    "\n",
    "$$e^+ e^- > \\mu^+ \\mu^-$$\n"
   ]
  },
  {
   "cell_type": "markdown",
   "id": "df2a6296",
   "metadata": {},
   "source": [
    "## Loading MadJax code\n",
    "\n",
    "`madjax` provides a nice API in order to access the Matrix Element code that `MadGraph` generated in `jax` format"
   ]
  },
  {
   "cell_type": "code",
   "execution_count": 2,
   "id": "5d00d82b",
   "metadata": {},
   "outputs": [],
   "source": [
    "me_codes = mj.MadJax('iml_example')"
   ]
  },
  {
   "cell_type": "markdown",
   "id": "75625be9",
   "metadata": {},
   "source": [
    "We can look at the available combinations of initial and final states for which code has been generated (in case you e.g. have processes with all flavors, etc)\n",
    "\n",
    "In this case it's easy, just a single initial and final state\n"
   ]
  },
  {
   "cell_type": "code",
   "execution_count": 3,
   "id": "33821928",
   "metadata": {},
   "outputs": [
    {
     "data": {
      "text/plain": [
       "{'Matrix_1_epem_mupmum': iml_example.processes.all_processes.Matrix_1_epem_mupmum}"
      ]
     },
     "execution_count": 3,
     "metadata": {},
     "output_type": "execute_result"
    }
   ],
   "source": [
    "me_codes.processes"
   ]
  },
  {
   "cell_type": "markdown",
   "id": "0a821b59",
   "metadata": {},
   "source": [
    "We can now get the function of purely the computed Matrix Element by passing in the process name and a center of mass energy (in GeV)"
   ]
  },
  {
   "cell_type": "code",
   "execution_count": 4,
   "id": "5ef9871b",
   "metadata": {},
   "outputs": [],
   "source": [
    "E_cm = 90 # GeV\n",
    "madjax_func = me_codes.matrix_element(E_cm,'Matrix_1_epem_mupmum', return_grad=False)"
   ]
  },
  {
   "cell_type": "markdown",
   "id": "27794291",
   "metadata": {},
   "source": [
    "As discussed the matrix element is function of the phase space point as well as the theory parameters. Even in the Standard Model there are typically many theory parameters we would want to not touch and specify each time we want to evaluate a matrix element.\n",
    "\n",
    "That's why the signature of `madjax_func` is \n",
    "\n",
    "```\n",
    "madjax_func(<dict of theory parameters to override>, <phase space point> )\n",
    "```\n",
    "\n",
    "The first argument is a dictionary of which subset of $\\theta$ you want to set and/or override.\n",
    "\n",
    "The second argument is the phase space point parametrized by 3*n-4 numbers in the interval [0,1] (we will get to this later)\n",
    "\n",
    "\n",
    "We can evaluate the Matrix Element at the default value of the parameters like so:\n"
   ]
  },
  {
   "cell_type": "code",
   "execution_count": 5,
   "id": "8aad0211",
   "metadata": {},
   "outputs": [
    {
     "name": "stderr",
     "output_type": "stream",
     "text": [
      "WARNING:absl:No GPU/TPU found, falling back to CPU. (Set TF_CPP_MIN_LOG_LEVEL=0 and rerun for more info.)\n"
     ]
    },
    {
     "data": {
      "text/plain": [
       "DeviceArray(1.22579846, dtype=float64)"
      ]
     },
     "execution_count": 5,
     "metadata": {},
     "output_type": "execute_result"
    }
   ],
   "source": [
    "madjax_func({}, [0.2,0.3])"
   ]
  },
  {
   "cell_type": "markdown",
   "id": "b1483e70",
   "metadata": {},
   "source": [
    "## Phasespace"
   ]
  },
  {
   "cell_type": "markdown",
   "id": "4b4a4242",
   "metadata": {},
   "source": [
    "Great! But what does this [0.2,0.2] mean? If you have $n$ external particles in a diagram (for us $n$=2) you have $4n$ components of 4-vectors. But for each particle you have the constraint that the 4-vector must be \"on-shell\" $E^2-p^2 = m^2$. This brings the number of free parameters down to $3n$.\n",
    "\n",
    "Furthermore, you have the constraint that the overall 4-vector that goes into the diagram must also come out, which gives you another 4 constraints for each of ($E$,$p_x$,$p_y$,$p_z$). This leads you to the overall number of free parameters:\n",
    "\n",
    "$$N_\\mathrm{pars} = 3n - 4$$\n",
    "\n",
    "For our diagram with 2 outgoing particles we thus have\n",
    "\n",
    "$$3n-4 = 2$$ free parameters\n",
    "\n",
    "That is the `2x4=8` components of the outgoing particle configuration is actually only parametrized by 2 parameters. We can see how this works using `madjax` \n"
   ]
  },
  {
   "cell_type": "code",
   "execution_count": 7,
   "id": "eebaa385",
   "metadata": {},
   "outputs": [
    {
     "name": "stdout",
     "output_type": "stream",
     "text": [
      "[[ 45.           0.           0.          45.        ]\n",
      " [ 45.           0.           0.         -45.        ]\n",
      " [ 45.         -11.1246118   34.23803459 -27.        ]\n",
      " [ 45.          11.1246118  -34.23803459  27.        ]]\n"
     ]
    }
   ],
   "source": [
    "ps_maker = me_codes.phasespace_vectors(E_cm,'Matrix_1_epem_mupmum')\n",
    "\n",
    "vectors = ps_maker({},[0.2,0.3])\n",
    "print(vectors)"
   ]
  },
  {
   "cell_type": "markdown",
   "id": "0a4995d8",
   "metadata": {},
   "source": [
    "This gives both input and output 4-vectors but let's focus on the outgoing particles"
   ]
  },
  {
   "cell_type": "code",
   "execution_count": 8,
   "id": "97935637",
   "metadata": {},
   "outputs": [
    {
     "data": {
      "text/plain": [
       "(2, 4)"
      ]
     },
     "execution_count": 8,
     "metadata": {},
     "output_type": "execute_result"
    }
   ],
   "source": [
    "outgoing = vectors[2:]\n",
    "outgoing.shape"
   ]
  },
  {
   "cell_type": "markdown",
   "id": "6e803127",
   "metadata": {},
   "source": [
    "We could even pass this into our favorite 4-vector package `vector` from `scikit-hep` like so"
   ]
  },
  {
   "cell_type": "code",
   "execution_count": 9,
   "id": "5fe91df3",
   "metadata": {},
   "outputs": [
    {
     "data": {
      "text/plain": [
       "MomentumNumpy4D([(-11.1246118,  34.23803459, -27., 45.),\n",
       "                 ( 11.1246118, -34.23803459,  27., 45.)],\n",
       "                dtype=[('x', '<f8'), ('y', '<f8'), ('z', '<f8'), ('t', '<f8')])"
      ]
     },
     "execution_count": 9,
     "metadata": {},
     "output_type": "execute_result"
    }
   ],
   "source": [
    "outgoing = vector.array(dict(zip(['E','x','y','z'],outgoing.T)))\n",
    "outgoing"
   ]
  },
  {
   "cell_type": "markdown",
   "id": "014b98b6",
   "metadata": {},
   "source": [
    "... and evaluate the more convenient attributes like pseudorapidity $\\eta$ and $\\phi$"
   ]
  },
  {
   "cell_type": "code",
   "execution_count": 10,
   "id": "3815b8c5",
   "metadata": {},
   "outputs": [
    {
     "data": {
      "text/plain": [
       "(array([-0.69314718,  0.69314718]), array([ 1.88495559, -1.25663706]))"
      ]
     },
     "execution_count": 10,
     "metadata": {},
     "output_type": "execute_result"
    }
   ],
   "source": [
    "outgoing.eta, outgoing.phi"
   ]
  },
  {
   "cell_type": "code",
   "execution_count": 11,
   "id": "6a4b6477",
   "metadata": {},
   "outputs": [
    {
     "name": "stdout",
     "output_type": "stream",
     "text": [
      "True\n",
      "True\n"
     ]
    }
   ],
   "source": [
    "print(outgoing[0].phi-outgoing[1].phi == np.pi) #pi\n",
    "print(outgoing[0].eta == -outgoing[1].eta)"
   ]
  },
  {
   "cell_type": "markdown",
   "id": "bf88a57a",
   "metadata": {},
   "source": [
    "We can see clearly that the two particles are back to back!"
   ]
  },
  {
   "cell_type": "markdown",
   "id": "e1e5ed96",
   "metadata": {},
   "source": [
    "Based on this we can see what the two numbers [0,1]^2 (which we will call hypercube parameters) actually mean here"
   ]
  },
  {
   "cell_type": "code",
   "execution_count": 13,
   "id": "1d8a8934",
   "metadata": {},
   "outputs": [],
   "source": [
    "ps_maker = me_codes.phasespace_vectors(E_cm,'Matrix_1_epem_mupmum')\n",
    "hyper2vec =  lambda ps: ps_maker({},ps)[2:] #pick up final state"
   ]
  },
  {
   "cell_type": "code",
   "execution_count": 14,
   "id": "01d80995",
   "metadata": {},
   "outputs": [
    {
     "data": {
      "text/plain": [
       "<matplotlib.legend.Legend at 0x7f4218b49890>"
      ]
     },
     "execution_count": 14,
     "metadata": {},
     "output_type": "execute_result"
    },
    {
     "data": {
      "image/png": "[encoded data removed]",
      "text/plain": [
       "<Figure size 432x288 with 1 Axes>"
      ]
     },
     "metadata": {
      "needs_background": "light"
     },
     "output_type": "display_data"
    }
   ],
   "source": [
    "ps_points = np.random.uniform([0.0,0.0],[1,1], size = (1000,2))\n",
    "vectors = jax.vmap(hyper2vec)(ps_points)\n",
    "\n",
    "vectors = vector.array(dict(zip(['E','x','y','z'],vectors.T)))\n",
    "plt.scatter(ps_points[:,0],np.cos(vectors.theta[1]),alpha = 0.2, label = 'fist par v. cos theta')\n",
    "plt.scatter(ps_points[:,1],vectors.phi[1],alpha = 0.2, label = 'second par v. phi')\n",
    "plt.legend()"
   ]
  },
  {
   "cell_type": "markdown",
   "id": "1acb7e87",
   "metadata": {},
   "source": [
    "We can see that the first parameter corresponds to the polar angle $cos\\theta$.\n",
    "\n",
    "The second parameter to the azimuthal angle $\\phi$"
   ]
  },
  {
   "cell_type": "markdown",
   "id": "da9d6b18",
   "metadata": {},
   "source": [
    "## Mapping the Matrix Element"
   ]
  },
  {
   "cell_type": "markdown",
   "id": "2efc60bd",
   "metadata": {},
   "source": [
    "We can now try to get a feel for the matrix element we generated by using `jax`'s nice `vmap` capabilities to evaluate the matrix element on a grid of $\\cos\\theta$ and $\\phi$"
   ]
  },
  {
   "cell_type": "code",
   "execution_count": 15,
   "id": "69ea19a1",
   "metadata": {},
   "outputs": [
    {
     "name": "stdout",
     "output_type": "stream",
     "text": [
      "[[0.   0.  ]\n",
      " [0.01 0.  ]\n",
      " [0.02 0.  ]\n",
      " ...\n",
      " [0.98 1.  ]\n",
      " [0.99 1.  ]\n",
      " [1.   1.  ]]\n"
     ]
    }
   ],
   "source": [
    "p1_range = np.linspace(0,1,101)\n",
    "p2_range = np.linspace(0,1,101)\n",
    "\n",
    "grid = np.meshgrid(p1_range, p2_range, indexing='ij')\n",
    "X = np.swapaxes(grid,0,-1).reshape(-1,2)\n",
    "\n",
    "print(X)"
   ]
  },
  {
   "cell_type": "code",
   "execution_count": 16,
   "id": "849757e2",
   "metadata": {},
   "outputs": [
    {
     "data": {
      "text/plain": [
       "<matplotlib.collections.PathCollection at 0x7f4218aa42d0>"
      ]
     },
     "execution_count": 16,
     "metadata": {},
     "output_type": "execute_result"
    },
    {
     "data": {
      "image/png": "[encoded data removed]",
      "text/plain": [
       "<Figure size 432x288 with 1 Axes>"
      ]
     },
     "metadata": {
      "needs_background": "light"
     },
     "output_type": "display_data"
    }
   ],
   "source": [
    "plt.scatter(X[:,0],X[:,1])"
   ]
  },
  {
   "cell_type": "code",
   "execution_count": 17,
   "id": "4306853c",
   "metadata": {},
   "outputs": [
    {
     "data": {
      "text/plain": [
       "<matplotlib.contour.QuadContourSet at 0x7f41982538d0>"
      ]
     },
     "execution_count": 17,
     "metadata": {},
     "output_type": "execute_result"
    },
    {
     "data": {
      "image/png": "[encoded data removed]",
      "text/plain": [
       "<Figure size 432x288 with 1 Axes>"
      ]
     },
     "metadata": {
      "needs_background": "light"
     },
     "output_type": "display_data"
    }
   ],
   "source": [
    "results = jax.vmap(madjax_func, in_axes = (None,0))({}, X)\n",
    "results = results.reshape(len(p1_range),len(p2_range)).T\n",
    "plt.contourf(grid[0],grid[1],results, levels = 101)\n",
    "plt.contour(grid[0],grid[1],results, levels = 10, colors = 'w')"
   ]
  },
  {
   "cell_type": "markdown",
   "id": "1d7fa152",
   "metadata": {},
   "source": [
    "The matrix element only depends on $\\cos \\theta$ as we would expect if we remember our introduction to QFT class\n",
    "where $$\\frac{d\\sigma}{d\\Omega} \\sim (1+\\cos^2\\theta)$$"
   ]
  },
  {
   "cell_type": "markdown",
   "id": "8086250f",
   "metadata": {},
   "source": [
    "As $\\phi$ does not matter, let's look at a single slice in $\\phi$ as a function purely of $\\cos\\theta$"
   ]
  },
  {
   "cell_type": "code",
   "execution_count": 18,
   "id": "e444e00d",
   "metadata": {},
   "outputs": [
    {
     "data": {
      "text/plain": [
       "[<matplotlib.lines.Line2D at 0x7f41cc28b8d0>]"
      ]
     },
     "execution_count": 18,
     "metadata": {},
     "output_type": "execute_result"
    },
    {
     "data": {
      "image/png": "[encoded data removed]",
      "text/plain": [
       "<Figure size 432x288 with 1 Axes>"
      ]
     },
     "metadata": {
      "needs_background": "light"
     },
     "output_type": "display_data"
    }
   ],
   "source": [
    "xi = np.array(list(np.broadcast(np.linspace(0,1),0.5)))\n",
    "yi = jax.vmap(madjax_func, in_axes = (None,0))({}, xi)\n",
    "plt.plot(xi[:,0],yi, label = 'M^2')"
   ]
  },
  {
   "cell_type": "markdown",
   "id": "f5e42b7d",
   "metadata": {},
   "source": [
    "## Overriding Parameters"
   ]
  },
  {
   "cell_type": "markdown",
   "id": "f9bfc17c",
   "metadata": {},
   "source": [
    "The process $e^+ e^- > \\mu^+ \\mu^-$ strongly depends on the value of the Z-boson mass\n",
    "We can now look at the same function at various values of $M_Z$\n",
    "\n",
    "The PDG Code of the Z-boson is 23, and we can override the matrix element calculation with this mass like so:"
   ]
  },
  {
   "cell_type": "code",
   "execution_count": 19,
   "id": "f3908595",
   "metadata": {},
   "outputs": [
    {
     "name": "stdout",
     "output_type": "stream",
     "text": [
      "1.225798457760036 E_cm at 90 GeV, Z mass at default\n",
      "0.049994072666759 E_cm at 90 GeV, Z mass at 85 GeV\n"
     ]
    }
   ],
   "source": [
    "print(madjax_func({}, [0.2,0.3]), 'E_cm at 90 GeV, Z mass at default')\n",
    "print(madjax_func({(\"mass\", 23): 85}, [0.2,0.3]), 'E_cm at 90 GeV, Z mass at 85 GeV')"
   ]
  },
  {
   "cell_type": "code",
   "execution_count": 20,
   "id": "bad2e94a",
   "metadata": {},
   "outputs": [
    {
     "data": {
      "text/plain": [
       "[]"
      ]
     },
     "execution_count": 20,
     "metadata": {},
     "output_type": "execute_result"
    },
    {
     "data": {
      "image/png": "[encoded data removed]",
      "text/plain": [
       "<Figure size 432x288 with 1 Axes>"
      ]
     },
     "metadata": {
      "needs_background": "light"
     },
     "output_type": "display_data"
    }
   ],
   "source": [
    "masses = np.linspace(80,120,1001)\n",
    "func = lambda mass: madjax_func({(\"mass\", 23): mass}, [0.2,0.3])\n",
    "me_value = jax.vmap(func)(masses)\n",
    "plt.plot(masses,me_value)\n",
    "plt.semilogy()"
   ]
  },
  {
   "cell_type": "markdown",
   "id": "59051f3e",
   "metadata": {},
   "source": [
    "The main point of `madjax` is that it's differentiable, so let's try to get the derivatives of $|\\mathcal{M}|^2(x,m_Z)$ from `madjax`\n",
    "\n",
    "It's as simple as calling `jax.value_and_grad` on the code above"
   ]
  },
  {
   "cell_type": "code",
   "execution_count": 21,
   "id": "522777f2",
   "metadata": {},
   "outputs": [
    {
     "data": {
      "text/plain": [
       "(85.0, 95.0)"
      ]
     },
     "execution_count": 21,
     "metadata": {},
     "output_type": "execute_result"
    },
    {
     "data": {
      "image/png": "[encoded data removed]",
      "text/plain": [
       "<Figure size 432x288 with 1 Axes>"
      ]
     },
     "metadata": {
      "needs_background": "light"
     },
     "output_type": "display_data"
    }
   ],
   "source": [
    "me_value,me_grads = jax.vmap(jax.value_and_grad(func))(masses)\n",
    "plt.plot(masses,me_value)\n",
    "n_every = 10\n",
    "plt.quiver(masses[::n_every],me_value[::n_every],jax.numpy.ones_like(me_grads[::n_every]),me_grads[::n_every],units='xy',angles='xy', color = 'r')\n",
    "plt.xlim(85,95)"
   ]
  },
  {
   "cell_type": "markdown",
   "id": "2f5aa259",
   "metadata": {},
   "source": [
    "<h2> Voilà! - Differentiable Matrix Elements!</h2>"
   ]
  },
  {
   "cell_type": "markdown",
   "id": "c711e189",
   "metadata": {},
   "source": [
    "For more information please check out this paper on the arxiv\n",
    "\n",
    "https://arxiv.org/abs/2203.00057\n",
    "\n",
    "L. Heinrich, M. Kagan - Differentiable Matrix Elements with MadJax\n",
    "    "
   ]
  },
  {
   "cell_type": "code",
   "execution_count": null,
   "id": "74d54557",
   "metadata": {},
   "outputs": [],
   "source": []
  }
 ],
 "metadata": {
  "kernelspec": {
   "display_name": "Python 3 (ipykernel)",
   "language": "python",
   "name": "python3"
  },
  "language_info": {
   "codemirror_mode": {
    "name": "ipython",
    "version": 3
   },
   "file_extension": ".py",
   "mimetype": "text/x-python",
   "name": "python",
   "nbconvert_exporter": "python",
   "pygments_lexer": "ipython3",
   "version": "3.7.12"
  }
 },
 "nbformat": 4,
 "nbformat_minor": 5
}
